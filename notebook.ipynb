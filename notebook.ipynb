{
 "cells": [
  {
   "cell_type": "markdown",
   "metadata": {},
   "source": [
    "<h2>Zadání 6. Analýza projektů (gql_ug + gql_projects)</h2>\n",
    "\n",
    "- Vytvořit GQL dotaz na základě existující federace,\n",
    "- Definovat transformaci GQL response -> table rows (vstup pro kontingenční tabulku)\n",
    "- Vytvořit kontingenční tabulku\n",
    "- Vytvořit koláčový / sloupcový graf\n",
    "- Vytvořit Sunburst / Chord graf\n",
    "- Výsledek realizujte jako ipynb notebook (autentizace jménem a heslem, realizace aiohttp, transformace response, vytvoření tabulky, vytvoření grafu)."
   ]
  },
  {
   "cell_type": "markdown",
   "metadata": {},
   "source": [
    "<b>Instalce potřebných knihoven</b>"
   ]
  },
  {
   "cell_type": "code",
   "execution_count": 1,
   "metadata": {},
   "outputs": [
    {
     "name": "stdout",
     "output_type": "stream",
     "text": [
      "Requirement already satisfied: pandas in c:\\users\\chalo\\appdata\\local\\programs\\python\\python310\\lib\\site-packages (2.2.2)\n",
      "Requirement already satisfied: aiohttp in c:\\users\\chalo\\appdata\\local\\programs\\python\\python310\\lib\\site-packages (3.9.5)\n",
      "Note: you may need to restart the kernel to use updated packages.\n"
     ]
    },
    {
     "name": "stderr",
     "output_type": "stream",
     "text": [
      "ERROR: Could not find a version that satisfies the requirement json (from versions: none)\n",
      "ERROR: No matching distribution found for json\n"
     ]
    }
   ],
   "source": [
    "%pip install pandas aiohttp plotly.express asyncio nbformat"
   ]
  },
  {
   "cell_type": "markdown",
   "metadata": {},
   "source": [
    "<b>Importy a inicializace</b>"
   ]
  },
  {
   "cell_type": "code",
   "execution_count": 2,
   "metadata": {},
   "outputs": [],
   "source": [
    "import aiohttp\n",
    "import asyncio\n",
    "import json\n",
    "import plotly.express as px\n",
    "import pandas as pd\n",
    "from itertools import product\n",
    "from functools import reduce"
   ]
  },
  {
   "cell_type": "markdown",
   "metadata": {},
   "source": [
    "<b>Funkce pro získání tokenu</b>"
   ]
  },
  {
   "cell_type": "code",
   "execution_count": 3,
   "metadata": {},
   "outputs": [],
   "source": [
    "async def getToken(username, password):\n",
    "    keyurl = \"http://localhost:33001/oauth/login3\"\n",
    "    async with aiohttp.ClientSession() as session:\n",
    "        async with session.get(keyurl) as resp:\n",
    "            keyJson = await resp.json()\n",
    "\n",
    "        payload = {\"key\": keyJson[\"key\"], \"username\": username, \"password\": password}\n",
    "        async with session.post(keyurl, json=payload) as resp:\n",
    "            tokenJson = await resp.json()\n",
    "    return tokenJson.get(\"token\", None)"
   ]
  },
  {
   "cell_type": "markdown",
   "metadata": {},
   "source": [
    "<b>Funkce pro definici GraphQL dotazu</b>"
   ]
  },
  {
   "cell_type": "code",
   "execution_count": 4,
   "metadata": {},
   "outputs": [],
   "source": [
    "def query(q, token):\n",
    "    async def post(variables):\n",
    "        gqlurl = \"http://localhost:33001/api/gql\"\n",
    "        payload = {\"query\": q, \"variables\": variables}\n",
    "        cookies = {'authorization': token}\n",
    "        async with aiohttp.ClientSession() as session:\n",
    "            async with session.post(gqlurl, json=payload, cookies=cookies) as resp:\n",
    "                if resp.status != 200:\n",
    "                    text = await resp.text()\n",
    "                    print(text)\n",
    "                    return text\n",
    "                else:\n",
    "                    response = await resp.json()\n",
    "                    return response\n",
    "    return post"
   ]
  },
  {
   "cell_type": "markdown",
   "metadata": {},
   "source": [
    "<b>Pomocné funkce pro zpracování dat</b>"
   ]
  },
  {
   "cell_type": "code",
   "execution_count": 5,
   "metadata": {},
   "outputs": [],
   "source": [
    "def enumerateAttrs(attrs):\n",
    "    for key, value in attrs.items():\n",
    "        names = value.split(\".\")\n",
    "        name = names[0]\n",
    "        yield key, name\n",
    "\n",
    "def flattenList(inList, outItem, attrs):\n",
    "    for item in inList:\n",
    "        assert isinstance(item, dict), f\"in list only dicts are expected\"\n",
    "        for row in flatten(item, outItem, attrs):\n",
    "            yield row\n",
    "\n",
    "def flattenDict(inDict, outItem, attrs):\n",
    "    result = {**outItem}\n",
    "    complexAttrs = []\n",
    "    for key, value in enumerateAttrs(attrs):\n",
    "        if value == \"milestones\":\n",
    "            result[key] = len(inDict.get(\"milestones\", []))\n",
    "        else:\n",
    "            attributeValue = inDict.get(value, None)\n",
    "            if isinstance(attributeValue, list):\n",
    "                complexAttrs.append((key, value))\n",
    "            elif isinstance(attributeValue, dict):\n",
    "                complexAttrs.append((key, value))\n",
    "            else:\n",
    "                result[key] = attributeValue\n",
    "    lists = []\n",
    "    for key, value in complexAttrs:\n",
    "        attributeValue = inDict.get(value, None)\n",
    "        prefix = f\"{value}.\"\n",
    "        prefixlen = len(prefix)\n",
    "        subAttrs = {key: value[prefixlen:] for key, value in attrs.items() if value.startswith(prefix)}\n",
    "        items = list(flatten(attributeValue, result, subAttrs))\n",
    "        lists.append(items)\n",
    "                     \n",
    "    if len(lists) == 0:\n",
    "        yield result\n",
    "    else:\n",
    "        for element in product(*lists):\n",
    "            reduced = reduce(lambda a, b: {**a, **b}, element, {})\n",
    "            yield reduced\n",
    "\n",
    "def flatten(inData, outItem, attrs):\n",
    "    if isinstance(inData, dict):\n",
    "        for item in flattenDict(inData, outItem, attrs):\n",
    "            yield item\n",
    "    elif isinstance(inData, list):\n",
    "        for item in flattenList(inData, outItem, attrs):\n",
    "            yield item\n",
    "    else:\n",
    "        assert False, f\"Unexpected type on inData {inData}\""
   ]
  },
  {
   "cell_type": "markdown",
   "metadata": {},
   "source": [
    "<b>Přihlašovací údaje</b>"
   ]
  },
  {
   "cell_type": "code",
   "execution_count": 6,
   "metadata": {},
   "outputs": [],
   "source": [
    "username = \"john.newbie@world.com\"\n",
    "password = \"john.newbie@world.com\""
   ]
  },
  {
   "cell_type": "markdown",
   "metadata": {},
   "source": [
    "<b>GraphQL dotaz</b>"
   ]
  },
  {
   "cell_type": "code",
   "execution_count": 7,
   "metadata": {},
   "outputs": [],
   "source": [
    "queryStr = \"\"\"\n",
    "{\n",
    "  projectPage {\n",
    "    id\n",
    "    name\n",
    "    startdate\n",
    "    enddate\n",
    "    valid\n",
    "    projectType {\n",
    "      id\n",
    "      name\n",
    "    }\n",
    "    milestones {\n",
    "      id\n",
    "    }\n",
    "    group {\n",
    "      id\n",
    "      name\n",
    "    }\n",
    "  }\n",
    "}\n",
    "\"\"\""
   ]
  },
  {
   "cell_type": "markdown",
   "metadata": {},
   "source": [
    "<b>Mapování atributů</b>"
   ]
  },
  {
   "cell_type": "code",
   "execution_count": 8,
   "metadata": {},
   "outputs": [],
   "source": [
    "mappers = {\n",
    "    \"projectID\": \"id\",\n",
    "    \"projectName\": \"name\",\n",
    "    \"startDate\": \"startdate\",\n",
    "    \"endDate\": \"enddate\",\n",
    "    \"validity\": \"valid\",\n",
    "    \"projectTypeID\": \"projectType.id\",\n",
    "    \"projectType\": \"projectType.name\",\n",
    "    \"milestonesCount\": \"milestones\",\n",
    "    \"groupID\": \"group.id\",\n",
    "    \"groupName\": \"group.name\",\n",
    "}"
   ]
  },
  {
   "cell_type": "markdown",
   "metadata": {},
   "source": [
    "<b>Asynchronní funkce pro celý proces</b>"
   ]
  },
  {
   "cell_type": "code",
   "execution_count": 9,
   "metadata": {},
   "outputs": [],
   "source": [
    "async def fullPipe():\n",
    "    token = await getToken(username, password)\n",
    "    qfunc = query(queryStr, token)\n",
    "    response = await qfunc({})\n",
    "\n",
    "    data = response.get(\"data\", None)\n",
    "    result = data.get(\"projectPage\", None)\n",
    "\n",
    "    flatData = flatten(result, {}, mappers)\n",
    "    return list(flatData)\n",
    "\n",
    "async def main():\n",
    "    flatData = await fullPipe()\n",
    "    with open('resultNotebook.json', \"w\", encoding='utf-8') as outputFile:\n",
    "        json.dump(flatData, outputFile)\n",
    "\n",
    "await main()"
   ]
  },
  {
   "cell_type": "markdown",
   "metadata": {},
   "source": [
    "<h2>Tabulka</h2>"
   ]
  },
  {
   "cell_type": "code",
   "execution_count": 10,
   "metadata": {},
   "outputs": [
    {
     "name": "stdout",
     "output_type": "stream",
     "text": [
      "                               projectID                     projectName                   startDate                     endDate  validity                         projectTypeID projectType  milestonesCount                               groupID   groupName\n",
      "0   43dd2ff1-5c17-42a5-ba36-8b30e2a243bb    Nukleární reaktor pro budovy         2023-01-01T17:27:12         2025-12-31T17:27:12     False  a825d8e1-2e60-4884-afdb-25642db581d8        GAČR                5  2d9dcd22-a4a2-11ed-b9df-0242ac120003         Uni\n",
      "1   22586df2-2cf0-4549-ae27-5df7800a2b0b        Větrná turbína pro města  2023-05-21T08:38:52.038899  2026-05-20T08:38:52.038915     False  a825d8e1-2e60-4884-afdb-25642db581d8        GAČR                4  2d9dcd22-a4a2-11ed-b9df-0242ac120003         Uni\n",
      "2   d765d9ca-0eb0-4c9b-977b-52b59d18a6a1          Inteligentní osvětlení  2023-11-02T08:38:52.038979  2025-10-02T08:38:52.038982      True   c009fed2-6c5-4668-bb60-949dd1b6b3ed        TAČR                3  3f7dcd22-a4a2-11ed-b9df-0242ac120004        Tech\n",
      "3   868a08ba-1dae-467d-b1a3-24503d5d497d              Ekologické baterie  2024-02-10T08:38:52.039022  2026-07-29T08:38:52.039027      True  a7b8b28f-37f4-422f-84bd-2ab9f31a2f50      EUREKA                6  3e9507a9-e9aa-4fcb-b273-4fcf4ea6e16d       Green\n",
      "4   35d19327-c525-430b-a0e0-69186f682dde        Vodíkové palivové články  2024-03-31T08:38:52.039066  2026-11-06T08:38:52.039069      True  8396657f-934a-472a-b3e2-66535313426d       H2020                4  2d9dcd22-a4a2-11ed-b9df-0242ac120003         Uni\n",
      "5   0e630f23-c9a0-40d2-a49f-5a45f928fdbb           Recyklovatelné plasty  2023-12-22T08:38:52.039097  2027-02-14T08:38:52.039099      True  3701b0b3-8f71-4387-ac4e-1659fdd86cf6    INTERREG                3  548a647d-145e-4db3-844f-724030c414da         Eco\n",
      "6   9821313c-1e14-495a-a6ce-c3b10d258aa9       Biodegradabilní materiály  2024-01-21T08:40:36.609988  2026-03-01T08:40:36.610006      True  a825d8e1-2e60-4884-afdb-25642db581d8        GAČR                2  548a647d-145e-4db3-844f-724030c414da         Eco\n",
      "7   754b19b6-e265-419c-a17d-97e46245dfca           Smart Grid Technology  2024-02-20T08:40:36.610081  2026-04-20T08:40:36.610086      True   c009fed2-6c5-4668-bb60-949dd1b6b3ed        TAČR                2  3f7dcd22-a4a2-11ed-b9df-0242ac120004        Tech\n",
      "8   c3b9a8ea-335f-4873-8fef-d598881275cb             Geotermální energie  2023-07-25T08:40:36.610124  2027-02-14T08:40:36.610127      True  a825d8e1-2e60-4884-afdb-25642db581d8        GAČR                2  2d9dcd22-a4a2-11ed-b9df-0242ac120003         Uni\n",
      "9   aa55d7bf-4717-453e-9b96-acdc68d8e6f2               Autonomní vozidla  2023-11-22T08:40:36.610155  2026-07-29T08:40:36.610160      True   c009fed2-6c5-4668-bb60-949dd1b6b3ed        TAČR                2  3e9507a9-e9aa-4fcb-b273-4fcf4ea6e16d       Green\n",
      "10  99cf863e-3073-416c-a2c0-0b12b3c56460             Robotická chirurgie  2024-03-21T08:40:36.610201  2026-01-10T08:40:36.610206      True  a825d8e1-2e60-4884-afdb-25642db581d8        GAČR                2  533da1b1-fed8-4a0e-b967-9f6d718f3854  HealthTech\n",
      "11  7ba310fc-8210-43d5-bb17-1bd1a4b0fadf    Solární panely nové generace  2024-04-01T08:40:36.610301  2027-04-01T08:40:36.610305      True  478059f2-154c-4d65-9597-63c8fbef294a         FP7                3  652936f0-cae0-47f2-b6f0-83c10bd0a363      Energy\n",
      "12  767d221c-0c2c-4415-91d1-e2d74c8c630d              Vodní hospodářství  2024-05-01T08:40:36.610401  2026-05-01T08:40:36.610405      True  01ed84df-94be-4f40-b64c-ccc4e11c6fef        COST                4  3ba7341a-f190-4aeb-a90f-1d727b46ccdf     BioTech\n",
      "13  9d64d142-fcc9-4f5c-924b-90ae61a6daee  Geneticky modifikované plodiny  2024-06-01T08:40:36.610501  2028-06-01T08:40:36.610505      True  170af1bb-05bb-4f39-a8bf-6861b68ec1bd        LIFE                2  024201e2-7246-4eb0-b140-0ba4bfd2a2c2   Materials\n",
      "14  69946f41-1f68-4d97-b86b-4a91c94b911e      Nanotechnologie v medicíně  2024-07-01T08:40:36.610601  2029-07-01T08:40:36.610605      True  478059f2-154c-4d65-9597-63c8fbef294a         FP7                1  3ba7341a-f190-4aeb-a90f-1d727b46ccdf     BioTech\n",
      "15  dcabb9df-104b-47c3-a4f3-9f514489a427                    Chytré město  2024-08-01T08:40:36.610701  2027-08-01T08:40:36.610705     False  01ed84df-94be-4f40-b64c-ccc4e11c6fef        COST                3  652936f0-cae0-47f2-b6f0-83c10bd0a363      Energy\n"
     ]
    }
   ],
   "source": [
    "with open(\"resultFake.json\", \"r\") as file: #pro reálné data nahradit resultNotebook.json\n",
    "    data = json.load(file)\n",
    "\n",
    "pd.set_option('display.max_columns', None)\n",
    "pd.set_option('display.expand_frame_repr', False)\n",
    "df = pd.DataFrame(data)\n",
    "\n",
    "print(df)"
   ]
  },
  {
   "cell_type": "markdown",
   "metadata": {},
   "source": [
    "<h2>Tvorba grafů</h2>"
   ]
  },
  {
   "cell_type": "markdown",
   "metadata": {},
   "source": [
    "<b>Zpracování falešných dat</b>"
   ]
  },
  {
   "cell_type": "code",
   "execution_count": 11,
   "metadata": {},
   "outputs": [],
   "source": [
    "def createTableRow(project):\n",
    "    row = {}\n",
    "    row[\"projectID\"] = project[\"id\"]\n",
    "    row[\"projectName\"] = project[\"name\"]\n",
    "    row[\"startDate\"] = project[\"startdate\"]\n",
    "    row[\"endDate\"] = project[\"enddate\"]\n",
    "    row[\"validity\"] = project[\"valid\"]\n",
    "\n",
    "    row[\"projectTypeID\"] = project[\"projectType\"][\"id\"]\n",
    "    row[\"projectType\"] = project[\"projectType\"][\"name\"]\n",
    "\n",
    "    row[\"milestonesCount\"] = len(project['milestones'])\n",
    "\n",
    "    row[\"groupID\"] = project[\"group\"][\"id\"]\n",
    "    row[\"groupName\"] = project[\"group\"][\"name\"]\n",
    "    \n",
    "    return row\n",
    "\n",
    "\n",
    "with open('dataFake.json', encoding='utf-8') as inputFile:\n",
    "    data = json.load(inputFile)\n",
    "\n",
    "\n",
    "sourceTable = []\n",
    "\n",
    "\n",
    "for project in data[\"data\"][\"projectPage\"]:\n",
    "    row = createTableRow(project)\n",
    "    sourceTable.append(row)\n",
    "\n",
    "\n",
    "with open('resultFake.json', \"w\", encoding='utf-8') as outputFile:\n",
    "    json.dump(sourceTable, outputFile)"
   ]
  },
  {
   "cell_type": "markdown",
   "metadata": {},
   "source": [
    "<b>Vytvoření grafů</b>"
   ]
  },
  {
   "cell_type": "code",
   "execution_count": 12,
   "metadata": {},
   "outputs": [
    {
     "data": {
      "application/vnd.plotly.v1+json": {
       "config": {
        "plotlyServerURL": "https://plot.ly"
       },
       "data": [
        {
         "branchvalues": "total",
         "domain": {
          "x": [
           0,
           1
          ],
          "y": [
           0,
           1
          ]
         },
         "hovertemplate": "labels=%{label}<br>milestonesCount=%{value}<br>parent=%{parent}<br>id=%{id}<extra></extra>",
         "ids": [
          "BioTech/Nanotechnologie v medicíně/1",
          "Green/Autonomní vozidla/2",
          "Eco/Biodegradabilní materiály/2",
          "Materials/Geneticky modifikované plodiny/2",
          "Uni/Geotermální energie/2",
          "HealthTech/Robotická chirurgie/2",
          "Tech/Smart Grid Technology/2",
          "Energy/Chytré město/3",
          "Tech/Inteligentní osvětlení/3",
          "Eco/Recyklovatelné plasty/3",
          "Energy/Solární panely nové generace/3",
          "BioTech/Vodní hospodářství/4",
          "Uni/Vodíkové palivové články/4",
          "Uni/Větrná turbína pro města/4",
          "Uni/Nukleární reaktor pro budovy/5",
          "Green/Ekologické baterie/6",
          "Green/Autonomní vozidla",
          "Eco/Biodegradabilní materiály",
          "Energy/Chytré město",
          "Green/Ekologické baterie",
          "Materials/Geneticky modifikované plodiny",
          "Uni/Geotermální energie",
          "Tech/Inteligentní osvětlení",
          "BioTech/Nanotechnologie v medicíně",
          "Uni/Nukleární reaktor pro budovy",
          "Eco/Recyklovatelné plasty",
          "HealthTech/Robotická chirurgie",
          "Tech/Smart Grid Technology",
          "Energy/Solární panely nové generace",
          "BioTech/Vodní hospodářství",
          "Uni/Vodíkové palivové články",
          "Uni/Větrná turbína pro města",
          "BioTech",
          "Eco",
          "Energy",
          "Green",
          "HealthTech",
          "Materials",
          "Tech",
          "Uni"
         ],
         "labels": [
          "1",
          "2",
          "2",
          "2",
          "2",
          "2",
          "2",
          "3",
          "3",
          "3",
          "3",
          "4",
          "4",
          "4",
          "5",
          "6",
          "Autonomní vozidla",
          "Biodegradabilní materiály",
          "Chytré město",
          "Ekologické baterie",
          "Geneticky modifikované plodiny",
          "Geotermální energie",
          "Inteligentní osvětlení",
          "Nanotechnologie v medicíně",
          "Nukleární reaktor pro budovy",
          "Recyklovatelné plasty",
          "Robotická chirurgie",
          "Smart Grid Technology",
          "Solární panely nové generace",
          "Vodní hospodářství",
          "Vodíkové palivové články",
          "Větrná turbína pro města",
          "BioTech",
          "Eco",
          "Energy",
          "Green",
          "HealthTech",
          "Materials",
          "Tech",
          "Uni"
         ],
         "name": "",
         "parents": [
          "BioTech/Nanotechnologie v medicíně",
          "Green/Autonomní vozidla",
          "Eco/Biodegradabilní materiály",
          "Materials/Geneticky modifikované plodiny",
          "Uni/Geotermální energie",
          "HealthTech/Robotická chirurgie",
          "Tech/Smart Grid Technology",
          "Energy/Chytré město",
          "Tech/Inteligentní osvětlení",
          "Eco/Recyklovatelné plasty",
          "Energy/Solární panely nové generace",
          "BioTech/Vodní hospodářství",
          "Uni/Vodíkové palivové články",
          "Uni/Větrná turbína pro města",
          "Uni/Nukleární reaktor pro budovy",
          "Green/Ekologické baterie",
          "Green",
          "Eco",
          "Energy",
          "Green",
          "Materials",
          "Uni",
          "Tech",
          "BioTech",
          "Uni",
          "Eco",
          "HealthTech",
          "Tech",
          "Energy",
          "BioTech",
          "Uni",
          "Uni",
          "",
          "",
          "",
          "",
          "",
          "",
          "",
          ""
         ],
         "type": "sunburst",
         "values": [
          1,
          2,
          2,
          2,
          2,
          2,
          2,
          3,
          3,
          3,
          3,
          4,
          4,
          4,
          5,
          6,
          2,
          2,
          3,
          6,
          2,
          2,
          3,
          1,
          5,
          3,
          2,
          2,
          3,
          4,
          4,
          4,
          5,
          5,
          6,
          8,
          2,
          2,
          5,
          15
         ]
        }
       ],
       "layout": {
        "height": 800,
        "legend": {
         "tracegroupgap": 0
        },
        "template": {
         "data": {
          "bar": [
           {
            "error_x": {
             "color": "#2a3f5f"
            },
            "error_y": {
             "color": "#2a3f5f"
            },
            "marker": {
             "line": {
              "color": "#E5ECF6",
              "width": 0.5
             },
             "pattern": {
              "fillmode": "overlay",
              "size": 10,
              "solidity": 0.2
             }
            },
            "type": "bar"
           }
          ],
          "barpolar": [
           {
            "marker": {
             "line": {
              "color": "#E5ECF6",
              "width": 0.5
             },
             "pattern": {
              "fillmode": "overlay",
              "size": 10,
              "solidity": 0.2
             }
            },
            "type": "barpolar"
           }
          ],
          "carpet": [
           {
            "aaxis": {
             "endlinecolor": "#2a3f5f",
             "gridcolor": "white",
             "linecolor": "white",
             "minorgridcolor": "white",
             "startlinecolor": "#2a3f5f"
            },
            "baxis": {
             "endlinecolor": "#2a3f5f",
             "gridcolor": "white",
             "linecolor": "white",
             "minorgridcolor": "white",
             "startlinecolor": "#2a3f5f"
            },
            "type": "carpet"
           }
          ],
          "choropleth": [
           {
            "colorbar": {
             "outlinewidth": 0,
             "ticks": ""
            },
            "type": "choropleth"
           }
          ],
          "contour": [
           {
            "colorbar": {
             "outlinewidth": 0,
             "ticks": ""
            },
            "colorscale": [
             [
              0,
              "#0d0887"
             ],
             [
              0.1111111111111111,
              "#46039f"
             ],
             [
              0.2222222222222222,
              "#7201a8"
             ],
             [
              0.3333333333333333,
              "#9c179e"
             ],
             [
              0.4444444444444444,
              "#bd3786"
             ],
             [
              0.5555555555555556,
              "#d8576b"
             ],
             [
              0.6666666666666666,
              "#ed7953"
             ],
             [
              0.7777777777777778,
              "#fb9f3a"
             ],
             [
              0.8888888888888888,
              "#fdca26"
             ],
             [
              1,
              "#f0f921"
             ]
            ],
            "type": "contour"
           }
          ],
          "contourcarpet": [
           {
            "colorbar": {
             "outlinewidth": 0,
             "ticks": ""
            },
            "type": "contourcarpet"
           }
          ],
          "heatmap": [
           {
            "colorbar": {
             "outlinewidth": 0,
             "ticks": ""
            },
            "colorscale": [
             [
              0,
              "#0d0887"
             ],
             [
              0.1111111111111111,
              "#46039f"
             ],
             [
              0.2222222222222222,
              "#7201a8"
             ],
             [
              0.3333333333333333,
              "#9c179e"
             ],
             [
              0.4444444444444444,
              "#bd3786"
             ],
             [
              0.5555555555555556,
              "#d8576b"
             ],
             [
              0.6666666666666666,
              "#ed7953"
             ],
             [
              0.7777777777777778,
              "#fb9f3a"
             ],
             [
              0.8888888888888888,
              "#fdca26"
             ],
             [
              1,
              "#f0f921"
             ]
            ],
            "type": "heatmap"
           }
          ],
          "heatmapgl": [
           {
            "colorbar": {
             "outlinewidth": 0,
             "ticks": ""
            },
            "colorscale": [
             [
              0,
              "#0d0887"
             ],
             [
              0.1111111111111111,
              "#46039f"
             ],
             [
              0.2222222222222222,
              "#7201a8"
             ],
             [
              0.3333333333333333,
              "#9c179e"
             ],
             [
              0.4444444444444444,
              "#bd3786"
             ],
             [
              0.5555555555555556,
              "#d8576b"
             ],
             [
              0.6666666666666666,
              "#ed7953"
             ],
             [
              0.7777777777777778,
              "#fb9f3a"
             ],
             [
              0.8888888888888888,
              "#fdca26"
             ],
             [
              1,
              "#f0f921"
             ]
            ],
            "type": "heatmapgl"
           }
          ],
          "histogram": [
           {
            "marker": {
             "pattern": {
              "fillmode": "overlay",
              "size": 10,
              "solidity": 0.2
             }
            },
            "type": "histogram"
           }
          ],
          "histogram2d": [
           {
            "colorbar": {
             "outlinewidth": 0,
             "ticks": ""
            },
            "colorscale": [
             [
              0,
              "#0d0887"
             ],
             [
              0.1111111111111111,
              "#46039f"
             ],
             [
              0.2222222222222222,
              "#7201a8"
             ],
             [
              0.3333333333333333,
              "#9c179e"
             ],
             [
              0.4444444444444444,
              "#bd3786"
             ],
             [
              0.5555555555555556,
              "#d8576b"
             ],
             [
              0.6666666666666666,
              "#ed7953"
             ],
             [
              0.7777777777777778,
              "#fb9f3a"
             ],
             [
              0.8888888888888888,
              "#fdca26"
             ],
             [
              1,
              "#f0f921"
             ]
            ],
            "type": "histogram2d"
           }
          ],
          "histogram2dcontour": [
           {
            "colorbar": {
             "outlinewidth": 0,
             "ticks": ""
            },
            "colorscale": [
             [
              0,
              "#0d0887"
             ],
             [
              0.1111111111111111,
              "#46039f"
             ],
             [
              0.2222222222222222,
              "#7201a8"
             ],
             [
              0.3333333333333333,
              "#9c179e"
             ],
             [
              0.4444444444444444,
              "#bd3786"
             ],
             [
              0.5555555555555556,
              "#d8576b"
             ],
             [
              0.6666666666666666,
              "#ed7953"
             ],
             [
              0.7777777777777778,
              "#fb9f3a"
             ],
             [
              0.8888888888888888,
              "#fdca26"
             ],
             [
              1,
              "#f0f921"
             ]
            ],
            "type": "histogram2dcontour"
           }
          ],
          "mesh3d": [
           {
            "colorbar": {
             "outlinewidth": 0,
             "ticks": ""
            },
            "type": "mesh3d"
           }
          ],
          "parcoords": [
           {
            "line": {
             "colorbar": {
              "outlinewidth": 0,
              "ticks": ""
             }
            },
            "type": "parcoords"
           }
          ],
          "pie": [
           {
            "automargin": true,
            "type": "pie"
           }
          ],
          "scatter": [
           {
            "fillpattern": {
             "fillmode": "overlay",
             "size": 10,
             "solidity": 0.2
            },
            "type": "scatter"
           }
          ],
          "scatter3d": [
           {
            "line": {
             "colorbar": {
              "outlinewidth": 0,
              "ticks": ""
             }
            },
            "marker": {
             "colorbar": {
              "outlinewidth": 0,
              "ticks": ""
             }
            },
            "type": "scatter3d"
           }
          ],
          "scattercarpet": [
           {
            "marker": {
             "colorbar": {
              "outlinewidth": 0,
              "ticks": ""
             }
            },
            "type": "scattercarpet"
           }
          ],
          "scattergeo": [
           {
            "marker": {
             "colorbar": {
              "outlinewidth": 0,
              "ticks": ""
             }
            },
            "type": "scattergeo"
           }
          ],
          "scattergl": [
           {
            "marker": {
             "colorbar": {
              "outlinewidth": 0,
              "ticks": ""
             }
            },
            "type": "scattergl"
           }
          ],
          "scattermapbox": [
           {
            "marker": {
             "colorbar": {
              "outlinewidth": 0,
              "ticks": ""
             }
            },
            "type": "scattermapbox"
           }
          ],
          "scatterpolar": [
           {
            "marker": {
             "colorbar": {
              "outlinewidth": 0,
              "ticks": ""
             }
            },
            "type": "scatterpolar"
           }
          ],
          "scatterpolargl": [
           {
            "marker": {
             "colorbar": {
              "outlinewidth": 0,
              "ticks": ""
             }
            },
            "type": "scatterpolargl"
           }
          ],
          "scatterternary": [
           {
            "marker": {
             "colorbar": {
              "outlinewidth": 0,
              "ticks": ""
             }
            },
            "type": "scatterternary"
           }
          ],
          "surface": [
           {
            "colorbar": {
             "outlinewidth": 0,
             "ticks": ""
            },
            "colorscale": [
             [
              0,
              "#0d0887"
             ],
             [
              0.1111111111111111,
              "#46039f"
             ],
             [
              0.2222222222222222,
              "#7201a8"
             ],
             [
              0.3333333333333333,
              "#9c179e"
             ],
             [
              0.4444444444444444,
              "#bd3786"
             ],
             [
              0.5555555555555556,
              "#d8576b"
             ],
             [
              0.6666666666666666,
              "#ed7953"
             ],
             [
              0.7777777777777778,
              "#fb9f3a"
             ],
             [
              0.8888888888888888,
              "#fdca26"
             ],
             [
              1,
              "#f0f921"
             ]
            ],
            "type": "surface"
           }
          ],
          "table": [
           {
            "cells": {
             "fill": {
              "color": "#EBF0F8"
             },
             "line": {
              "color": "white"
             }
            },
            "header": {
             "fill": {
              "color": "#C8D4E3"
             },
             "line": {
              "color": "white"
             }
            },
            "type": "table"
           }
          ]
         },
         "layout": {
          "annotationdefaults": {
           "arrowcolor": "#2a3f5f",
           "arrowhead": 0,
           "arrowwidth": 1
          },
          "autotypenumbers": "strict",
          "coloraxis": {
           "colorbar": {
            "outlinewidth": 0,
            "ticks": ""
           }
          },
          "colorscale": {
           "diverging": [
            [
             0,
             "#8e0152"
            ],
            [
             0.1,
             "#c51b7d"
            ],
            [
             0.2,
             "#de77ae"
            ],
            [
             0.3,
             "#f1b6da"
            ],
            [
             0.4,
             "#fde0ef"
            ],
            [
             0.5,
             "#f7f7f7"
            ],
            [
             0.6,
             "#e6f5d0"
            ],
            [
             0.7,
             "#b8e186"
            ],
            [
             0.8,
             "#7fbc41"
            ],
            [
             0.9,
             "#4d9221"
            ],
            [
             1,
             "#276419"
            ]
           ],
           "sequential": [
            [
             0,
             "#0d0887"
            ],
            [
             0.1111111111111111,
             "#46039f"
            ],
            [
             0.2222222222222222,
             "#7201a8"
            ],
            [
             0.3333333333333333,
             "#9c179e"
            ],
            [
             0.4444444444444444,
             "#bd3786"
            ],
            [
             0.5555555555555556,
             "#d8576b"
            ],
            [
             0.6666666666666666,
             "#ed7953"
            ],
            [
             0.7777777777777778,
             "#fb9f3a"
            ],
            [
             0.8888888888888888,
             "#fdca26"
            ],
            [
             1,
             "#f0f921"
            ]
           ],
           "sequentialminus": [
            [
             0,
             "#0d0887"
            ],
            [
             0.1111111111111111,
             "#46039f"
            ],
            [
             0.2222222222222222,
             "#7201a8"
            ],
            [
             0.3333333333333333,
             "#9c179e"
            ],
            [
             0.4444444444444444,
             "#bd3786"
            ],
            [
             0.5555555555555556,
             "#d8576b"
            ],
            [
             0.6666666666666666,
             "#ed7953"
            ],
            [
             0.7777777777777778,
             "#fb9f3a"
            ],
            [
             0.8888888888888888,
             "#fdca26"
            ],
            [
             1,
             "#f0f921"
            ]
           ]
          },
          "colorway": [
           "#636efa",
           "#EF553B",
           "#00cc96",
           "#ab63fa",
           "#FFA15A",
           "#19d3f3",
           "#FF6692",
           "#B6E880",
           "#FF97FF",
           "#FECB52"
          ],
          "font": {
           "color": "#2a3f5f"
          },
          "geo": {
           "bgcolor": "white",
           "lakecolor": "white",
           "landcolor": "#E5ECF6",
           "showlakes": true,
           "showland": true,
           "subunitcolor": "white"
          },
          "hoverlabel": {
           "align": "left"
          },
          "hovermode": "closest",
          "mapbox": {
           "style": "light"
          },
          "paper_bgcolor": "white",
          "plot_bgcolor": "#E5ECF6",
          "polar": {
           "angularaxis": {
            "gridcolor": "white",
            "linecolor": "white",
            "ticks": ""
           },
           "bgcolor": "#E5ECF6",
           "radialaxis": {
            "gridcolor": "white",
            "linecolor": "white",
            "ticks": ""
           }
          },
          "scene": {
           "xaxis": {
            "backgroundcolor": "#E5ECF6",
            "gridcolor": "white",
            "gridwidth": 2,
            "linecolor": "white",
            "showbackground": true,
            "ticks": "",
            "zerolinecolor": "white"
           },
           "yaxis": {
            "backgroundcolor": "#E5ECF6",
            "gridcolor": "white",
            "gridwidth": 2,
            "linecolor": "white",
            "showbackground": true,
            "ticks": "",
            "zerolinecolor": "white"
           },
           "zaxis": {
            "backgroundcolor": "#E5ECF6",
            "gridcolor": "white",
            "gridwidth": 2,
            "linecolor": "white",
            "showbackground": true,
            "ticks": "",
            "zerolinecolor": "white"
           }
          },
          "shapedefaults": {
           "line": {
            "color": "#2a3f5f"
           }
          },
          "ternary": {
           "aaxis": {
            "gridcolor": "white",
            "linecolor": "white",
            "ticks": ""
           },
           "baxis": {
            "gridcolor": "white",
            "linecolor": "white",
            "ticks": ""
           },
           "bgcolor": "#E5ECF6",
           "caxis": {
            "gridcolor": "white",
            "linecolor": "white",
            "ticks": ""
           }
          },
          "title": {
           "x": 0.05
          },
          "xaxis": {
           "automargin": true,
           "gridcolor": "white",
           "linecolor": "white",
           "ticks": "",
           "title": {
            "standoff": 15
           },
           "zerolinecolor": "white",
           "zerolinewidth": 2
          },
          "yaxis": {
           "automargin": true,
           "gridcolor": "white",
           "linecolor": "white",
           "ticks": "",
           "title": {
            "standoff": 15
           },
           "zerolinecolor": "white",
           "zerolinewidth": 2
          }
         }
        },
        "title": {
         "text": "Project Distribution by Group, Project Name, and Milestones Count"
        },
        "width": 800
       }
      }
     },
     "metadata": {},
     "output_type": "display_data"
    },
    {
     "data": {
      "application/vnd.plotly.v1+json": {
       "config": {
        "plotlyServerURL": "https://plot.ly"
       },
       "data": [
        {
         "alignmentgroup": "True",
         "hovertemplate": "Validity=True<br>Group Name=%{x}<br>Number of Projects=%{y}<extra></extra>",
         "legendgroup": "True",
         "marker": {
          "color": "#636efa",
          "pattern": {
           "shape": ""
          }
         },
         "name": "True",
         "offsetgroup": "True",
         "orientation": "v",
         "showlegend": true,
         "textposition": "auto",
         "type": "bar",
         "x": [
          "BioTech",
          "Eco",
          "Energy",
          "Green",
          "HealthTech",
          "Materials",
          "Tech",
          "Uni"
         ],
         "xaxis": "x",
         "y": [
          2,
          2,
          1,
          2,
          1,
          1,
          2,
          2
         ],
         "yaxis": "y"
        },
        {
         "alignmentgroup": "True",
         "hovertemplate": "Validity=False<br>Group Name=%{x}<br>Number of Projects=%{y}<extra></extra>",
         "legendgroup": "False",
         "marker": {
          "color": "#EF553B",
          "pattern": {
           "shape": ""
          }
         },
         "name": "False",
         "offsetgroup": "False",
         "orientation": "v",
         "showlegend": true,
         "textposition": "auto",
         "type": "bar",
         "x": [
          "Energy",
          "Uni"
         ],
         "xaxis": "x",
         "y": [
          1,
          2
         ],
         "yaxis": "y"
        }
       ],
       "layout": {
        "barmode": "group",
        "legend": {
         "title": {
          "text": "Validity"
         },
         "tracegroupgap": 0
        },
        "template": {
         "data": {
          "bar": [
           {
            "error_x": {
             "color": "#2a3f5f"
            },
            "error_y": {
             "color": "#2a3f5f"
            },
            "marker": {
             "line": {
              "color": "#E5ECF6",
              "width": 0.5
             },
             "pattern": {
              "fillmode": "overlay",
              "size": 10,
              "solidity": 0.2
             }
            },
            "type": "bar"
           }
          ],
          "barpolar": [
           {
            "marker": {
             "line": {
              "color": "#E5ECF6",
              "width": 0.5
             },
             "pattern": {
              "fillmode": "overlay",
              "size": 10,
              "solidity": 0.2
             }
            },
            "type": "barpolar"
           }
          ],
          "carpet": [
           {
            "aaxis": {
             "endlinecolor": "#2a3f5f",
             "gridcolor": "white",
             "linecolor": "white",
             "minorgridcolor": "white",
             "startlinecolor": "#2a3f5f"
            },
            "baxis": {
             "endlinecolor": "#2a3f5f",
             "gridcolor": "white",
             "linecolor": "white",
             "minorgridcolor": "white",
             "startlinecolor": "#2a3f5f"
            },
            "type": "carpet"
           }
          ],
          "choropleth": [
           {
            "colorbar": {
             "outlinewidth": 0,
             "ticks": ""
            },
            "type": "choropleth"
           }
          ],
          "contour": [
           {
            "colorbar": {
             "outlinewidth": 0,
             "ticks": ""
            },
            "colorscale": [
             [
              0,
              "#0d0887"
             ],
             [
              0.1111111111111111,
              "#46039f"
             ],
             [
              0.2222222222222222,
              "#7201a8"
             ],
             [
              0.3333333333333333,
              "#9c179e"
             ],
             [
              0.4444444444444444,
              "#bd3786"
             ],
             [
              0.5555555555555556,
              "#d8576b"
             ],
             [
              0.6666666666666666,
              "#ed7953"
             ],
             [
              0.7777777777777778,
              "#fb9f3a"
             ],
             [
              0.8888888888888888,
              "#fdca26"
             ],
             [
              1,
              "#f0f921"
             ]
            ],
            "type": "contour"
           }
          ],
          "contourcarpet": [
           {
            "colorbar": {
             "outlinewidth": 0,
             "ticks": ""
            },
            "type": "contourcarpet"
           }
          ],
          "heatmap": [
           {
            "colorbar": {
             "outlinewidth": 0,
             "ticks": ""
            },
            "colorscale": [
             [
              0,
              "#0d0887"
             ],
             [
              0.1111111111111111,
              "#46039f"
             ],
             [
              0.2222222222222222,
              "#7201a8"
             ],
             [
              0.3333333333333333,
              "#9c179e"
             ],
             [
              0.4444444444444444,
              "#bd3786"
             ],
             [
              0.5555555555555556,
              "#d8576b"
             ],
             [
              0.6666666666666666,
              "#ed7953"
             ],
             [
              0.7777777777777778,
              "#fb9f3a"
             ],
             [
              0.8888888888888888,
              "#fdca26"
             ],
             [
              1,
              "#f0f921"
             ]
            ],
            "type": "heatmap"
           }
          ],
          "heatmapgl": [
           {
            "colorbar": {
             "outlinewidth": 0,
             "ticks": ""
            },
            "colorscale": [
             [
              0,
              "#0d0887"
             ],
             [
              0.1111111111111111,
              "#46039f"
             ],
             [
              0.2222222222222222,
              "#7201a8"
             ],
             [
              0.3333333333333333,
              "#9c179e"
             ],
             [
              0.4444444444444444,
              "#bd3786"
             ],
             [
              0.5555555555555556,
              "#d8576b"
             ],
             [
              0.6666666666666666,
              "#ed7953"
             ],
             [
              0.7777777777777778,
              "#fb9f3a"
             ],
             [
              0.8888888888888888,
              "#fdca26"
             ],
             [
              1,
              "#f0f921"
             ]
            ],
            "type": "heatmapgl"
           }
          ],
          "histogram": [
           {
            "marker": {
             "pattern": {
              "fillmode": "overlay",
              "size": 10,
              "solidity": 0.2
             }
            },
            "type": "histogram"
           }
          ],
          "histogram2d": [
           {
            "colorbar": {
             "outlinewidth": 0,
             "ticks": ""
            },
            "colorscale": [
             [
              0,
              "#0d0887"
             ],
             [
              0.1111111111111111,
              "#46039f"
             ],
             [
              0.2222222222222222,
              "#7201a8"
             ],
             [
              0.3333333333333333,
              "#9c179e"
             ],
             [
              0.4444444444444444,
              "#bd3786"
             ],
             [
              0.5555555555555556,
              "#d8576b"
             ],
             [
              0.6666666666666666,
              "#ed7953"
             ],
             [
              0.7777777777777778,
              "#fb9f3a"
             ],
             [
              0.8888888888888888,
              "#fdca26"
             ],
             [
              1,
              "#f0f921"
             ]
            ],
            "type": "histogram2d"
           }
          ],
          "histogram2dcontour": [
           {
            "colorbar": {
             "outlinewidth": 0,
             "ticks": ""
            },
            "colorscale": [
             [
              0,
              "#0d0887"
             ],
             [
              0.1111111111111111,
              "#46039f"
             ],
             [
              0.2222222222222222,
              "#7201a8"
             ],
             [
              0.3333333333333333,
              "#9c179e"
             ],
             [
              0.4444444444444444,
              "#bd3786"
             ],
             [
              0.5555555555555556,
              "#d8576b"
             ],
             [
              0.6666666666666666,
              "#ed7953"
             ],
             [
              0.7777777777777778,
              "#fb9f3a"
             ],
             [
              0.8888888888888888,
              "#fdca26"
             ],
             [
              1,
              "#f0f921"
             ]
            ],
            "type": "histogram2dcontour"
           }
          ],
          "mesh3d": [
           {
            "colorbar": {
             "outlinewidth": 0,
             "ticks": ""
            },
            "type": "mesh3d"
           }
          ],
          "parcoords": [
           {
            "line": {
             "colorbar": {
              "outlinewidth": 0,
              "ticks": ""
             }
            },
            "type": "parcoords"
           }
          ],
          "pie": [
           {
            "automargin": true,
            "type": "pie"
           }
          ],
          "scatter": [
           {
            "fillpattern": {
             "fillmode": "overlay",
             "size": 10,
             "solidity": 0.2
            },
            "type": "scatter"
           }
          ],
          "scatter3d": [
           {
            "line": {
             "colorbar": {
              "outlinewidth": 0,
              "ticks": ""
             }
            },
            "marker": {
             "colorbar": {
              "outlinewidth": 0,
              "ticks": ""
             }
            },
            "type": "scatter3d"
           }
          ],
          "scattercarpet": [
           {
            "marker": {
             "colorbar": {
              "outlinewidth": 0,
              "ticks": ""
             }
            },
            "type": "scattercarpet"
           }
          ],
          "scattergeo": [
           {
            "marker": {
             "colorbar": {
              "outlinewidth": 0,
              "ticks": ""
             }
            },
            "type": "scattergeo"
           }
          ],
          "scattergl": [
           {
            "marker": {
             "colorbar": {
              "outlinewidth": 0,
              "ticks": ""
             }
            },
            "type": "scattergl"
           }
          ],
          "scattermapbox": [
           {
            "marker": {
             "colorbar": {
              "outlinewidth": 0,
              "ticks": ""
             }
            },
            "type": "scattermapbox"
           }
          ],
          "scatterpolar": [
           {
            "marker": {
             "colorbar": {
              "outlinewidth": 0,
              "ticks": ""
             }
            },
            "type": "scatterpolar"
           }
          ],
          "scatterpolargl": [
           {
            "marker": {
             "colorbar": {
              "outlinewidth": 0,
              "ticks": ""
             }
            },
            "type": "scatterpolargl"
           }
          ],
          "scatterternary": [
           {
            "marker": {
             "colorbar": {
              "outlinewidth": 0,
              "ticks": ""
             }
            },
            "type": "scatterternary"
           }
          ],
          "surface": [
           {
            "colorbar": {
             "outlinewidth": 0,
             "ticks": ""
            },
            "colorscale": [
             [
              0,
              "#0d0887"
             ],
             [
              0.1111111111111111,
              "#46039f"
             ],
             [
              0.2222222222222222,
              "#7201a8"
             ],
             [
              0.3333333333333333,
              "#9c179e"
             ],
             [
              0.4444444444444444,
              "#bd3786"
             ],
             [
              0.5555555555555556,
              "#d8576b"
             ],
             [
              0.6666666666666666,
              "#ed7953"
             ],
             [
              0.7777777777777778,
              "#fb9f3a"
             ],
             [
              0.8888888888888888,
              "#fdca26"
             ],
             [
              1,
              "#f0f921"
             ]
            ],
            "type": "surface"
           }
          ],
          "table": [
           {
            "cells": {
             "fill": {
              "color": "#EBF0F8"
             },
             "line": {
              "color": "white"
             }
            },
            "header": {
             "fill": {
              "color": "#C8D4E3"
             },
             "line": {
              "color": "white"
             }
            },
            "type": "table"
           }
          ]
         },
         "layout": {
          "annotationdefaults": {
           "arrowcolor": "#2a3f5f",
           "arrowhead": 0,
           "arrowwidth": 1
          },
          "autotypenumbers": "strict",
          "coloraxis": {
           "colorbar": {
            "outlinewidth": 0,
            "ticks": ""
           }
          },
          "colorscale": {
           "diverging": [
            [
             0,
             "#8e0152"
            ],
            [
             0.1,
             "#c51b7d"
            ],
            [
             0.2,
             "#de77ae"
            ],
            [
             0.3,
             "#f1b6da"
            ],
            [
             0.4,
             "#fde0ef"
            ],
            [
             0.5,
             "#f7f7f7"
            ],
            [
             0.6,
             "#e6f5d0"
            ],
            [
             0.7,
             "#b8e186"
            ],
            [
             0.8,
             "#7fbc41"
            ],
            [
             0.9,
             "#4d9221"
            ],
            [
             1,
             "#276419"
            ]
           ],
           "sequential": [
            [
             0,
             "#0d0887"
            ],
            [
             0.1111111111111111,
             "#46039f"
            ],
            [
             0.2222222222222222,
             "#7201a8"
            ],
            [
             0.3333333333333333,
             "#9c179e"
            ],
            [
             0.4444444444444444,
             "#bd3786"
            ],
            [
             0.5555555555555556,
             "#d8576b"
            ],
            [
             0.6666666666666666,
             "#ed7953"
            ],
            [
             0.7777777777777778,
             "#fb9f3a"
            ],
            [
             0.8888888888888888,
             "#fdca26"
            ],
            [
             1,
             "#f0f921"
            ]
           ],
           "sequentialminus": [
            [
             0,
             "#0d0887"
            ],
            [
             0.1111111111111111,
             "#46039f"
            ],
            [
             0.2222222222222222,
             "#7201a8"
            ],
            [
             0.3333333333333333,
             "#9c179e"
            ],
            [
             0.4444444444444444,
             "#bd3786"
            ],
            [
             0.5555555555555556,
             "#d8576b"
            ],
            [
             0.6666666666666666,
             "#ed7953"
            ],
            [
             0.7777777777777778,
             "#fb9f3a"
            ],
            [
             0.8888888888888888,
             "#fdca26"
            ],
            [
             1,
             "#f0f921"
            ]
           ]
          },
          "colorway": [
           "#636efa",
           "#EF553B",
           "#00cc96",
           "#ab63fa",
           "#FFA15A",
           "#19d3f3",
           "#FF6692",
           "#B6E880",
           "#FF97FF",
           "#FECB52"
          ],
          "font": {
           "color": "#2a3f5f"
          },
          "geo": {
           "bgcolor": "white",
           "lakecolor": "white",
           "landcolor": "#E5ECF6",
           "showlakes": true,
           "showland": true,
           "subunitcolor": "white"
          },
          "hoverlabel": {
           "align": "left"
          },
          "hovermode": "closest",
          "mapbox": {
           "style": "light"
          },
          "paper_bgcolor": "white",
          "plot_bgcolor": "#E5ECF6",
          "polar": {
           "angularaxis": {
            "gridcolor": "white",
            "linecolor": "white",
            "ticks": ""
           },
           "bgcolor": "#E5ECF6",
           "radialaxis": {
            "gridcolor": "white",
            "linecolor": "white",
            "ticks": ""
           }
          },
          "scene": {
           "xaxis": {
            "backgroundcolor": "#E5ECF6",
            "gridcolor": "white",
            "gridwidth": 2,
            "linecolor": "white",
            "showbackground": true,
            "ticks": "",
            "zerolinecolor": "white"
           },
           "yaxis": {
            "backgroundcolor": "#E5ECF6",
            "gridcolor": "white",
            "gridwidth": 2,
            "linecolor": "white",
            "showbackground": true,
            "ticks": "",
            "zerolinecolor": "white"
           },
           "zaxis": {
            "backgroundcolor": "#E5ECF6",
            "gridcolor": "white",
            "gridwidth": 2,
            "linecolor": "white",
            "showbackground": true,
            "ticks": "",
            "zerolinecolor": "white"
           }
          },
          "shapedefaults": {
           "line": {
            "color": "#2a3f5f"
           }
          },
          "ternary": {
           "aaxis": {
            "gridcolor": "white",
            "linecolor": "white",
            "ticks": ""
           },
           "baxis": {
            "gridcolor": "white",
            "linecolor": "white",
            "ticks": ""
           },
           "bgcolor": "#E5ECF6",
           "caxis": {
            "gridcolor": "white",
            "linecolor": "white",
            "ticks": ""
           }
          },
          "title": {
           "x": 0.05
          },
          "xaxis": {
           "automargin": true,
           "gridcolor": "white",
           "linecolor": "white",
           "ticks": "",
           "title": {
            "standoff": 15
           },
           "zerolinecolor": "white",
           "zerolinewidth": 2
          },
          "yaxis": {
           "automargin": true,
           "gridcolor": "white",
           "linecolor": "white",
           "ticks": "",
           "title": {
            "standoff": 15
           },
           "zerolinecolor": "white",
           "zerolinewidth": 2
          }
         }
        },
        "title": {
         "text": "Number of Projects by Group and Validity"
        },
        "xaxis": {
         "anchor": "y",
         "domain": [
          0,
          1
         ],
         "title": {
          "text": "Group Name"
         }
        },
        "yaxis": {
         "anchor": "x",
         "domain": [
          0,
          1
         ],
         "dtick": 1,
         "tickmode": "linear",
         "title": {
          "text": "Number of Projects"
         }
        }
       }
      }
     },
     "metadata": {},
     "output_type": "display_data"
    }
   ],
   "source": [
    "with open(\"resultFake.json\", \"r\") as file: #pro reálné data nahradit resultNotebook.json\n",
    "    data = json.load(file)\n",
    "\n",
    "df = pd.DataFrame(data)\n",
    "\n",
    "fig_sunburst = px.sunburst(\n",
    "    df,\n",
    "    path=['groupName', 'projectName', 'milestonesCount'],\n",
    "    values='milestonesCount', \n",
    "    title='Project Distribution by Group, Project Name, and Milestones Count'\n",
    ")\n",
    "\n",
    "fig_sunburst.update_layout(\n",
    "    width=800,  \n",
    "    height=800 \n",
    ")\n",
    "\n",
    "df_bar = df.groupby(['groupName', 'validity']).size().reset_index(name='counts')\n",
    "\n",
    "fig_bar = px.bar(\n",
    "    df_bar,\n",
    "    x='groupName',\n",
    "    y='counts',\n",
    "    color='validity',\n",
    "    barmode='group',\n",
    "    title='Number of Projects by Group and Validity',\n",
    "    labels={'groupName': 'Group Name', 'validity': 'Validity', 'counts': 'Number of Projects'}\n",
    ")\n",
    "\n",
    "fig_bar.update_layout(\n",
    "    yaxis=dict(\n",
    "        tickmode='linear',\n",
    "        dtick=1\n",
    "    )\n",
    ")\n",
    "\n",
    "fig_sunburst.show()\n",
    "fig_bar.show()"
   ]
  }
 ],
 "metadata": {
  "kernelspec": {
   "display_name": "Python 3",
   "language": "python",
   "name": "python3"
  },
  "language_info": {
   "codemirror_mode": {
    "name": "ipython",
    "version": 3
   },
   "file_extension": ".py",
   "mimetype": "text/x-python",
   "name": "python",
   "nbconvert_exporter": "python",
   "pygments_lexer": "ipython3",
   "version": "3.10.0"
  }
 },
 "nbformat": 4,
 "nbformat_minor": 2
}
